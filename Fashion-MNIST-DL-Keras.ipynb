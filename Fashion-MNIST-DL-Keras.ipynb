{
 "cells": [
  {
   "cell_type": "markdown",
   "metadata": {},
   "source": [
    "Fashion-MNIST is a dataset of Zalando's fashion article images —consisting of a training set of 60,000 examples and a test set of 10,000 examples. Each example is a 28x28 grayscale image, associated with a label.\n",
    "\n",
    "“Fashion MNIST” dataset here is used for experimenting and practicing machine learning. Fashion-MNIST dataset is a collection of articles images provided by Zalando(https://zalando.com/) . Thanks to Zalando Research(https://github.com/zalandoresearch/fashion-mnist) for hosting the dataset."
   ]
  },
  {
   "cell_type": "code",
   "execution_count": 2,
   "metadata": {},
   "outputs": [
    {
     "name": "stderr",
     "output_type": "stream",
     "text": [
      "/usr/local/anaconda/lib/python3.6/site-packages/h5py/__init__.py:36: FutureWarning: Conversion of the second argument of issubdtype from `float` to `np.floating` is deprecated. In future, it will be treated as `np.float64 == np.dtype(float).type`.\n",
      "  from ._conv import register_converters as _register_converters\n"
     ]
    }
   ],
   "source": [
    "import tensorflow as tf\n",
    "from tensorflow import keras\n",
    "from tensorflow.keras import layers, models\n",
    "from tensorflow.keras.models import load_model\n",
    "import os"
   ]
  },
  {
   "cell_type": "code",
   "execution_count": 3,
   "metadata": {},
   "outputs": [
    {
     "name": "stdout",
     "output_type": "stream",
     "text": [
      "1.10.0\n",
      "2.1.6-tf\n"
     ]
    }
   ],
   "source": [
    "print(tf.VERSION)\n",
    "print(tf.keras.__version__)"
   ]
  },
  {
   "cell_type": "code",
   "execution_count": 4,
   "metadata": {},
   "outputs": [],
   "source": [
    "import numpy as np\n",
    "import matplotlib.pyplot as plt"
   ]
  },
  {
   "cell_type": "markdown",
   "metadata": {},
   "source": [
    "Let us get the Fashion MNIST dataset using TensorFlow Keras API as below"
   ]
  },
  {
   "cell_type": "code",
   "execution_count": 5,
   "metadata": {},
   "outputs": [],
   "source": [
    "# Fashion - MNIST - https://github.com/zalandoresearch/fashion-mnist\n",
    "fashion_mnist = keras.datasets.fashion_mnist\n",
    "\n",
    "(train_images, train_labels), (test_images, test_labels) = fashion_mnist.load_data()"
   ]
  },
  {
   "cell_type": "code",
   "execution_count": 6,
   "metadata": {},
   "outputs": [],
   "source": [
    "class_names = ['T-shirt/top', 'Trouser', 'Pullover', 'Dress', 'Coat', \n",
    "               'Sandal', 'Shirt', 'Sneaker', 'Bag', 'Ankle boot']"
   ]
  },
  {
   "cell_type": "code",
   "execution_count": 6,
   "metadata": {},
   "outputs": [
    {
     "data": {
      "text/plain": [
       "(60000, 28, 28)"
      ]
     },
     "execution_count": 6,
     "metadata": {},
     "output_type": "execute_result"
    }
   ],
   "source": [
    "train_images.shape"
   ]
  },
  {
   "cell_type": "markdown",
   "metadata": {},
   "source": [
    "Thus we see that training dataset has 60000 images (rows) each of size (28,28) or 28x28 i.e. 2-D images, and each pixel is a value from 0 to 255 describing the pixel intensity. 0 for white and 255 for black.\n",
    "\n",
    "Since a convolutional layer takes a 2-D image (2-D array) as input, we needn't convert \n",
    "these 2-D images to a 1-D arrays \n",
    "\n",
    "If we had to feed these 2-D images to a DNN (hidden layer), which expects a 1-D array as input, we would\n",
    "have to convert these 2-D iamges to 1-D arrays before feeding to hidden layer (DNN)"
   ]
  },
  {
   "cell_type": "code",
   "execution_count": 7,
   "metadata": {},
   "outputs": [
    {
     "data": {
      "text/plain": [
       "(60000,)"
      ]
     },
     "execution_count": 7,
     "metadata": {},
     "output_type": "execute_result"
    }
   ],
   "source": [
    "train_labels.shape"
   ]
  },
  {
   "cell_type": "code",
   "execution_count": 8,
   "metadata": {},
   "outputs": [
    {
     "data": {
      "text/plain": [
       "(10000, 28, 28)"
      ]
     },
     "execution_count": 8,
     "metadata": {},
     "output_type": "execute_result"
    }
   ],
   "source": [
    "test_images.shape"
   ]
  },
  {
   "cell_type": "code",
   "execution_count": 9,
   "metadata": {},
   "outputs": [
    {
     "data": {
      "text/plain": [
       "(10000,)"
      ]
     },
     "execution_count": 9,
     "metadata": {},
     "output_type": "execute_result"
    }
   ],
   "source": [
    "test_labels.shape"
   ]
  },
  {
   "cell_type": "markdown",
   "metadata": {},
   "source": [
    "The class labels for Fashion MNIST are:\n",
    "<br>\n",
    "<br>\n",
    "<b>Label</b> &nbsp;  <b>Description</b>\n",
    "<br>\n",
    "0   &nbsp;&nbsp;&nbsp;&nbsp;&nbsp;&nbsp;&nbsp;   T-shirt/top\n",
    "<br>\n",
    "1   &nbsp;&nbsp;&nbsp;&nbsp;&nbsp;&nbsp;&nbsp;   Trouser\n",
    "<br>\n",
    "2   &nbsp;&nbsp;&nbsp;&nbsp;&nbsp;&nbsp;&nbsp;   Pullover\n",
    "<br>\n",
    "3   &nbsp;&nbsp;&nbsp;&nbsp;&nbsp;&nbsp;&nbsp;   Dress\n",
    "<br>\n",
    "4   &nbsp;&nbsp;&nbsp;&nbsp;&nbsp;&nbsp;&nbsp;   Coat\n",
    "<br>\n",
    "5   &nbsp;&nbsp;&nbsp;&nbsp;&nbsp;&nbsp;&nbsp;   Sandal\n",
    "<br>\n",
    "6   &nbsp;&nbsp;&nbsp;&nbsp;&nbsp;&nbsp;&nbsp;   Shirt\n",
    "<br>\n",
    "7   &nbsp;&nbsp;&nbsp;&nbsp;&nbsp;&nbsp;&nbsp;   Sneaker\n",
    "<br>\n",
    "8   &nbsp;&nbsp;&nbsp;&nbsp;&nbsp;&nbsp;&nbsp;   Bag\n",
    "<br>\n",
    "9   &nbsp;&nbsp;&nbsp;&nbsp;&nbsp;&nbsp;&nbsp;   Ankle boot\n",
    "<br>"
   ]
  },
  {
   "cell_type": "markdown",
   "metadata": {},
   "source": [
    "Now, let us view one of the images (at index/instance no. 220) of Fashion MNIST Training dataset, how it looks"
   ]
  },
  {
   "cell_type": "code",
   "execution_count": 10,
   "metadata": {},
   "outputs": [
    {
     "data": {
      "text/plain": [
       "<matplotlib.image.AxesImage at 0x7f0e26cfec18>"
      ]
     },
     "execution_count": 10,
     "metadata": {},
     "output_type": "execute_result"
    },
    {
     "data": {
      "image/png": "[encoded data removed]",
      "text/plain": [
       "<Figure size 432x288 with 1 Axes>"
      ]
     },
     "metadata": {},
     "output_type": "display_data"
    }
   ],
   "source": [
    "plt.figure()\n",
    "plt.imshow(np.squeeze(train_images[220]))"
   ]
  },
  {
   "cell_type": "code",
   "execution_count": 11,
   "metadata": {},
   "outputs": [
    {
     "data": {
      "text/plain": [
       "8"
      ]
     },
     "execution_count": 11,
     "metadata": {},
     "output_type": "execute_result"
    }
   ],
   "source": [
    "train_labels[220]"
   ]
  },
  {
   "cell_type": "markdown",
   "metadata": {},
   "source": [
    "So, we see that image at index (instance no.) 220 is a bag, and the corresponding label value also indicates the same (8 - Bag)."
   ]
  },
  {
   "cell_type": "code",
   "execution_count": 12,
   "metadata": {},
   "outputs": [
    {
     "data": {
      "image/png": "[encoded data removed]",
      "text/plain": [
       "<Figure size 720x720 with 15 Axes>"
      ]
     },
     "metadata": {},
     "output_type": "display_data"
    }
   ],
   "source": [
    "# Let us plot some training images to see how they look\n",
    "plt.figure(figsize=(10,10))\n",
    "for i in range(15):\n",
    "    plt.subplot(5,5,i+1)\n",
    "    plt.xticks([])\n",
    "    plt.yticks([])\n",
    "    plt.imshow(train_images[i], cmap=plt.cm.binary)\n",
    "    plt.xlabel(class_names[train_labels[i]])\n",
    "plt.show()"
   ]
  },
  {
   "cell_type": "markdown",
   "metadata": {},
   "source": [
    "Now, since, we have one more dimension for the images i.e. Channels (color), let us add it to the dimensions of train_images and test_images by using reshape() function. In this case, it is a single color (hence, channels=1) i.e. 'grayscale'."
   ]
  },
  {
   "cell_type": "code",
   "execution_count": 7,
   "metadata": {},
   "outputs": [],
   "source": [
    "train_images = train_images.reshape((60000, 28, 28, 1))\n",
    "test_images = test_images.reshape((10000, 28, 28, 1))"
   ]
  },
  {
   "cell_type": "markdown",
   "metadata": {},
   "source": [
    "The pixel values for the images lie between 0 to 255 now, which is a large range. \n",
    "\n",
    "Let us normalize these values to a range from 0 to 1. To do this, we can simply divide each pixel value with 255"
   ]
  },
  {
   "cell_type": "code",
   "execution_count": 8,
   "metadata": {},
   "outputs": [],
   "source": [
    "train_images_norm = train_images / 255.0"
   ]
  },
  {
   "cell_type": "code",
   "execution_count": 9,
   "metadata": {},
   "outputs": [],
   "source": [
    "test_images_norm = test_images / 255.0"
   ]
  },
  {
   "cell_type": "markdown",
   "metadata": {},
   "source": [
    "Let us now create convolutional layers for our CNN model"
   ]
  },
  {
   "cell_type": "code",
   "execution_count": 10,
   "metadata": {},
   "outputs": [],
   "source": [
    "# First convolutional layer. \n",
    "# Number of neurons = 32\n",
    "# filter(kernel) size = 3x3\n",
    "# Activation function = Relu\n",
    "# input data (images) size (height, width, channels) = (28, 28, 1)\n",
    "# Channels is 'colors' here. Since fashion MNIST images are grayscale, number of colors = 1, hence, channels = 1\n",
    "\n",
    "conv1 = layers.Conv2D(32, (3,3), activation='relu', input_shape=(28,28,1) )\n"
   ]
  },
  {
   "cell_type": "code",
   "execution_count": 11,
   "metadata": {},
   "outputs": [],
   "source": [
    "# Second convolutional layer. \n",
    "# Number of neurons = 64\n",
    "# filter(kernel) size = 3x3\n",
    "# Activation function = Relu\n",
    "# No separate input data for this layer, input to this layer are the 'weights' of the conv1 layer featureMaps\n",
    "# no need to specify explicitly the input to the other convolutional layers (except for the first layer, as above)\n",
    "\n",
    "conv2 = layers.Conv2D(64, (3,3), activation='relu')\n"
   ]
  },
  {
   "cell_type": "code",
   "execution_count": 12,
   "metadata": {},
   "outputs": [],
   "source": [
    "# Second convolutional layer. \n",
    "# Number of neurons = 128\n",
    "# filter(kernel) size = 3x3\n",
    "# Activation function = Relu\n",
    "# No separate input data for this layer, input to this layer are the 'weights' of the conv2 layer featureMaps\n",
    "# no need to specify explicitly the input to the other convolutional layers (except for the first layer, as above)\n",
    "\n",
    "conv3 = layers.Conv2D(128, (3,3), activation='relu')\n"
   ]
  },
  {
   "cell_type": "markdown",
   "metadata": {},
   "source": [
    "Let us create a Max Pooing Layer"
   ]
  },
  {
   "cell_type": "code",
   "execution_count": 13,
   "metadata": {},
   "outputs": [],
   "source": [
    "# Max Pool Layer\n",
    "# Since input to CNN is a 2-D image and ouput from last convolutional layer (featuerMap) is also 2-D array \n",
    "# (except the third dimension i.e. channels), we will use 2D version of Max Pooling function of TensorFlow Keras\n",
    "# to create a Max Pooling Layer, as shown below filter (kernel) size for Pooling Layer = 2x2\n",
    "\n",
    "#Creating first Max. Pooling Layer\n",
    "max_pool_1 = layers.MaxPooling2D((2,2))\n",
    "\n",
    "#Creating second Max. Pooling Layer\n",
    "max_pool_2 = layers.MaxPooling2D((2,2))\n",
    "\n",
    "#Creating third Max. Pooling Layer\n",
    "max_pool_3 = layers.MaxPooling2D((2,2))\n"
   ]
  },
  {
   "cell_type": "markdown",
   "metadata": {},
   "source": [
    "Let us create a Fully Connected Layer (Hidden Layer) and an Output Layer to perform Classification"
   ]
  },
  {
   "cell_type": "code",
   "execution_count": 14,
   "metadata": {},
   "outputs": [],
   "source": [
    "# Fully Connected (FC) Layer i.e. hidden layer expects input in 1-D format (1-D array), hence, we need to convert\n",
    "# 2-D output (2-D array) of last convolutional layer (conv3) to 1-D array i.e. we need to flatten the 2-D array\n",
    "# to 1-D array\n",
    "\n",
    "flat_layer = layers.Flatten()\n"
   ]
  },
  {
   "cell_type": "code",
   "execution_count": 15,
   "metadata": {},
   "outputs": [],
   "source": [
    "# Fully Connected (FC) Layer - Hidden(Dense) Layer\n",
    "# Normally, the number of neurons that we keep in FC layer should be equal to the number of neurons in just\n",
    "# immediate previous convolutional layer\n",
    "\n",
    "fc = layers.Dense(128, activation='relu')\n"
   ]
  },
  {
   "cell_type": "code",
   "execution_count": 16,
   "metadata": {},
   "outputs": [],
   "source": [
    "# Output Layer - with 10 neurons (as we have 10 output classes) and using 'softmax' function\n",
    "\n",
    "output = layers.Dense(10, 'softmax')\n"
   ]
  },
  {
   "cell_type": "markdown",
   "metadata": {},
   "source": [
    "Let us now create the model (CNN model) structure using the above defined layers"
   ]
  },
  {
   "cell_type": "code",
   "execution_count": 23,
   "metadata": {},
   "outputs": [],
   "source": [
    "# TensorFlow Keras uses Keras Sequential API\n",
    "\n",
    "model = models.Sequential()\n",
    "\n",
    "model.add(conv1)\n",
    "model.add(conv2)\n",
    "model.add(conv3)\n",
    "model.add(max_pool_1)\n",
    "model.add(flat_layer)\n",
    "model.add(fc)\n",
    "model.add(output)\n"
   ]
  },
  {
   "cell_type": "code",
   "execution_count": 24,
   "metadata": {},
   "outputs": [
    {
     "name": "stdout",
     "output_type": "stream",
     "text": [
      "_________________________________________________________________\n",
      "Layer (type)                 Output Shape              Param #   \n",
      "=================================================================\n",
      "conv2d (Conv2D)              (None, 26, 26, 32)        320       \n",
      "_________________________________________________________________\n",
      "conv2d_1 (Conv2D)            (None, 24, 24, 64)        18496     \n",
      "_________________________________________________________________\n",
      "conv2d_2 (Conv2D)            (None, 22, 22, 128)       73856     \n",
      "_________________________________________________________________\n",
      "max_pooling2d (MaxPooling2D) (None, 11, 11, 128)       0         \n",
      "_________________________________________________________________\n",
      "flatten (Flatten)            (None, 15488)             0         \n",
      "_________________________________________________________________\n",
      "dense (Dense)                (None, 128)               1982592   \n",
      "_________________________________________________________________\n",
      "dense_1 (Dense)              (None, 10)                1290      \n",
      "=================================================================\n",
      "Total params: 2,076,554\n",
      "Trainable params: 2,076,554\n",
      "Non-trainable params: 0\n",
      "_________________________________________________________________\n"
     ]
    }
   ],
   "source": [
    "# Let us see what all layers our model has\n",
    "\n",
    "model.summary()\n"
   ]
  },
  {
   "cell_type": "markdown",
   "metadata": {},
   "source": [
    "Let us now specify the optimizer(adam), loss function(crossentropy) and metrics(accuracy) for this model\n",
    "\n",
    "NOTE: Use sparse categorical crossentropy when your classes are mutually exclusive (e.g. when each sample belongs exactly to one class) and categorical crossentropy when one sample can have multiple classes or labels are soft probabilities (like [0.5, 0.3, 0.2])."
   ]
  },
  {
   "cell_type": "code",
   "execution_count": 25,
   "metadata": {},
   "outputs": [],
   "source": [
    "model.compile(optimizer='adam',\n",
    "              loss='sparse_categorical_crossentropy',\n",
    "              metrics=['accuracy'])"
   ]
  },
  {
   "cell_type": "markdown",
   "metadata": {},
   "source": [
    "Now let us train the model and also perform the cross validation and hyperparameter tuning. Passing validation_split parameter to fit() method ensures that cross validation and hyperparameter tuning also happens during the training."
   ]
  },
  {
   "cell_type": "code",
   "execution_count": 26,
   "metadata": {},
   "outputs": [
    {
     "name": "stdout",
     "output_type": "stream",
     "text": [
      "Train on 54000 samples, validate on 6000 samples\n",
      "Epoch 1/20\n",
      "54000/54000 [==============================] - 276s 5ms/step - loss: 0.6197 - acc: 0.7796 - val_loss: 0.3929 - val_acc: 0.8547\n",
      "Epoch 2/20\n",
      "54000/54000 [==============================] - 268s 5ms/step - loss: 0.3382 - acc: 0.8791 - val_loss: 0.3073 - val_acc: 0.8883\n",
      "Epoch 3/20\n",
      "54000/54000 [==============================] - 270s 5ms/step - loss: 0.2745 - acc: 0.9003 - val_loss: 0.2813 - val_acc: 0.8993\n",
      "Epoch 4/20\n",
      "54000/54000 [==============================] - 278s 5ms/step - loss: 0.2372 - acc: 0.9134 - val_loss: 0.2558 - val_acc: 0.9072\n",
      "Epoch 5/20\n",
      "54000/54000 [==============================] - 267s 5ms/step - loss: 0.2086 - acc: 0.9233 - val_loss: 0.2424 - val_acc: 0.9150\n",
      "Epoch 6/20\n",
      "54000/54000 [==============================] - 270s 5ms/step - loss: 0.1822 - acc: 0.9334 - val_loss: 0.2213 - val_acc: 0.9235\n",
      "Epoch 7/20\n",
      "54000/54000 [==============================] - 272s 5ms/step - loss: 0.1544 - acc: 0.9435 - val_loss: 0.2252 - val_acc: 0.9228\n",
      "Epoch 8/20\n",
      "54000/54000 [==============================] - 274s 5ms/step - loss: 0.1377 - acc: 0.9496 - val_loss: 0.2230 - val_acc: 0.9210\n",
      "Epoch 9/20\n",
      "54000/54000 [==============================] - 270s 5ms/step - loss: 0.1161 - acc: 0.9579 - val_loss: 0.2326 - val_acc: 0.9245\n",
      "Epoch 10/20\n",
      "54000/54000 [==============================] - 268s 5ms/step - loss: 0.0974 - acc: 0.9645 - val_loss: 0.2497 - val_acc: 0.9213\n",
      "Epoch 11/20\n",
      "54000/54000 [==============================] - 286s 5ms/step - loss: 0.0831 - acc: 0.9694 - val_loss: 0.2470 - val_acc: 0.9233\n",
      "Epoch 12/20\n",
      "54000/54000 [==============================] - 304s 6ms/step - loss: 0.0633 - acc: 0.9778 - val_loss: 0.2605 - val_acc: 0.9237\n",
      "Epoch 13/20\n",
      "54000/54000 [==============================] - 291s 5ms/step - loss: 0.0469 - acc: 0.9837 - val_loss: 0.3061 - val_acc: 0.9258\n",
      "Epoch 14/20\n",
      "54000/54000 [==============================] - 430s 8ms/step - loss: 0.0449 - acc: 0.9836 - val_loss: 0.2975 - val_acc: 0.9220\n",
      "Epoch 15/20\n",
      "54000/54000 [==============================] - 434s 8ms/step - loss: 0.0321 - acc: 0.9895 - val_loss: 0.3503 - val_acc: 0.9188\n",
      "Epoch 16/20\n",
      "54000/54000 [==============================] - 418s 8ms/step - loss: 0.0235 - acc: 0.9922 - val_loss: 0.3583 - val_acc: 0.9197\n",
      "Epoch 17/20\n",
      "54000/54000 [==============================] - 294s 5ms/step - loss: 0.0190 - acc: 0.9938 - val_loss: 0.3581 - val_acc: 0.9227\n",
      "Epoch 18/20\n",
      "54000/54000 [==============================] - 272s 5ms/step - loss: 0.0205 - acc: 0.9927 - val_loss: 0.4109 - val_acc: 0.9157\n",
      "Epoch 19/20\n",
      "54000/54000 [==============================] - 269s 5ms/step - loss: 0.0165 - acc: 0.9950 - val_loss: 0.3960 - val_acc: 0.9202\n",
      "Epoch 20/20\n",
      "54000/54000 [==============================] - 267s 5ms/step - loss: 0.0176 - acc: 0.9941 - val_loss: 0.4242 - val_acc: 0.9188\n"
     ]
    },
    {
     "data": {
      "text/plain": [
       "<tensorflow.python.keras.callbacks.History at 0x7f0e267c4ac8>"
      ]
     },
     "execution_count": 26,
     "metadata": {},
     "output_type": "execute_result"
    }
   ],
   "source": [
    "# we are using the normalized input data\n",
    "\n",
    "# Let us perform 20 epochs with batch_size as 512, and with shuffling = true \n",
    "\n",
    "# shuffle=true will shuffle the indexes of the instances in order to allocate different sets of instances \n",
    "# in validation dataset each time cross-validation runs\n",
    "\n",
    "# validation split=0.1 means a validation dataset of size of 10% is created from the training dataset for cross validation\n",
    "\n",
    "model.fit(train_images_norm, train_labels, epochs=20, batch_size=512, shuffle=True, validation_split=0.1)\n",
    "\n"
   ]
  },
  {
   "cell_type": "markdown",
   "metadata": {},
   "source": [
    "Let us now make predictions on Test dataset using the above trained model"
   ]
  },
  {
   "cell_type": "code",
   "execution_count": 27,
   "metadata": {},
   "outputs": [
    {
     "name": "stdout",
     "output_type": "stream",
     "text": [
      "10000/10000 [==============================] - 19s 2ms/step\n"
     ]
    }
   ],
   "source": [
    "# we are using the normalized input data\n",
    "test_loss, test_accuracy = model.evaluate(test_images_norm, test_labels)"
   ]
  },
  {
   "cell_type": "code",
   "execution_count": 28,
   "metadata": {},
   "outputs": [
    {
     "name": "stdout",
     "output_type": "stream",
     "text": [
      "0.9211\n"
     ]
    }
   ],
   "source": [
    "print(test_accuracy)"
   ]
  },
  {
   "cell_type": "markdown",
   "metadata": {},
   "source": [
    "We observe from above that the model is overfitting (Training Accuracy - 99% ; Test Accuracy - 92%)\n",
    "\n",
    "Deep learning models generally tend to be perform well on the Training data, but not on the Test data (Overfitting).\n",
    "\n",
    "The simplest way to prevent overfitting is to reduce the size of the model, i.e. the number of learnable parameters (number of layers and the number of neurons per layer). Second option to remove overfitting is to use Regularization techniques like - L1, L2, Dropout.\n",
    "\n",
    "If the neural network has less number of layers and neurons per layer, it may not perform well even on the Training dataset i.e. may lead to Underfitting issue. \n",
    "And if neural network has more number of layers and neurons per layer, it may perform very well (high accuracy) on the Training dataset, but may not perform well on Test dataset i.e. may lead to Overfitting issue. \n",
    "\n",
    "Unfortunately, there is no definite formula to determine the right architecture of your model (number of layers, number of neurons in each layer). You will have to find the right(optimum) architecture by trial and error (experimentation) method only.\n",
    "\n",
    "Though, for neural networks, we have other regularization techniques like L1, L2 regularization, <b>Dropout is the most effective of all and most commonly used regularization technique </b>.\n",
    "\n",
    "Dropout, when applied to a layer, involves of randomly \"dropping out\" (i.e. set to zero) a number of output features (neurons) of the layer. Let's say output of a layer before applying Dropout was [05, 0.8, 2.2, 0.9, 0.1], after applying dropout, the output will be [0, 0.8. 2.2, 0, 0.1].\n",
    "\n",
    "The \"dropout rate\" is the fraction of the features(neurons) that are being zeroed-out in the layer. Generally the value of dropout rate is kept between 0.2 and 0.5. \n",
    "\n",
    "Please note that, <b>Dropout is applied only during the Training phase</b>, and TensorFlow Keras API (evaluate() method) takes care of it internally, we don't need to remove the Dropout layer explicitly(manually) from the model at the time of prediction on the Test dataset.</b>\n",
    "\n",
    "In the Test phase, Dropout is not applied, instead the layer's output values are reduced by a factor equal to the dropout rate, so as to give a feeling that during Test phase also almost same number of neurons are active there were during the Training phase.\n",
    "\n",
    "Hence, to remove Overfitting issue in our case here, let us apply the regularization technique - Dropout.\n",
    "\n"
   ]
  },
  {
   "cell_type": "markdown",
   "metadata": {},
   "source": [
    "To implement the Dropout using TensorFlow Keras, we create a Dropout layer, and place this Dropout layer immediately after the layer to which this Dropout needs to be applied to.\n",
    "\n",
    "<b>NOTE:If there is a Pooling layer after a convolutional layer, the dropout layer is applied after the pooling layer</b> (not just after the convolutional layer, i.e. between the convolutional layer and the pooling layer)"
   ]
  },
  {
   "cell_type": "code",
   "execution_count": 17,
   "metadata": {},
   "outputs": [],
   "source": [
    "# Creating first dropout layer (for the first Conv. layer 'conv1')\n",
    "drop_1 = keras.layers.Dropout(0.5)\n",
    "# Creating second dropout layer (for the second Conv. layer 'conv2')\n",
    "drop_2 = keras.layers.Dropout(0.5)\n",
    "# Creating third dropout layer (for the third Conv. layer 'conv3')\n",
    "drop_3 = keras.layers.Dropout(0.5)"
   ]
  },
  {
   "cell_type": "code",
   "execution_count": 18,
   "metadata": {},
   "outputs": [],
   "source": [
    "# Let us create a new neural network by applying these above created Dropout Layers to the respecive convolutional Layers \n",
    "\n",
    "# Please note that the Dropout layer for all the convolutional layers will be applied after the pooling layer (max. pool layer)\n",
    "\n",
    "new_model = models.Sequential()\n",
    "\n",
    "new_model.add(conv1)\n",
    "# No Pooling Layer and Dropout layer for first Convolutional layer 'conv1'\n",
    "new_model.add(conv2)\n",
    "new_model.add(max_pool_2)\n",
    "new_model.add(drop_2)\n",
    "new_model.add(conv3)\n",
    "new_model.add(max_pool_3)\n",
    "new_model.add(drop_3)\n",
    "new_model.add(flat_layer)\n",
    "new_model.add(fc)\n",
    "new_model.add(output)\n"
   ]
  },
  {
   "cell_type": "code",
   "execution_count": 19,
   "metadata": {},
   "outputs": [
    {
     "name": "stdout",
     "output_type": "stream",
     "text": [
      "_________________________________________________________________\n",
      "Layer (type)                 Output Shape              Param #   \n",
      "=================================================================\n",
      "conv2d (Conv2D)              (None, 26, 26, 32)        320       \n",
      "_________________________________________________________________\n",
      "conv2d_1 (Conv2D)            (None, 24, 24, 64)        18496     \n",
      "_________________________________________________________________\n",
      "max_pooling2d_1 (MaxPooling2 (None, 12, 12, 64)        0         \n",
      "_________________________________________________________________\n",
      "dropout_1 (Dropout)          (None, 12, 12, 64)        0         \n",
      "_________________________________________________________________\n",
      "conv2d_2 (Conv2D)            (None, 10, 10, 128)       73856     \n",
      "_________________________________________________________________\n",
      "max_pooling2d_2 (MaxPooling2 (None, 5, 5, 128)         0         \n",
      "_________________________________________________________________\n",
      "dropout_2 (Dropout)          (None, 5, 5, 128)         0         \n",
      "_________________________________________________________________\n",
      "flatten (Flatten)            (None, 3200)              0         \n",
      "_________________________________________________________________\n",
      "dense (Dense)                (None, 128)               409728    \n",
      "_________________________________________________________________\n",
      "dense_1 (Dense)              (None, 10)                1290      \n",
      "=================================================================\n",
      "Total params: 503,690\n",
      "Trainable params: 503,690\n",
      "Non-trainable params: 0\n",
      "_________________________________________________________________\n"
     ]
    }
   ],
   "source": [
    "new_model.summary()"
   ]
  },
  {
   "cell_type": "markdown",
   "metadata": {},
   "source": [
    "NOTE: Use sparse categorical crossentropy when your classes are mutually exclusive (e.g. when each sample belongs exactly to one class) and categorical crossentropy when one sample can have multiple classes or labels are soft probabilities (like [0.5, 0.3, 0.2])."
   ]
  },
  {
   "cell_type": "code",
   "execution_count": 20,
   "metadata": {},
   "outputs": [],
   "source": [
    "new_model.compile(optimizer='adam',\n",
    "              loss='sparse_categorical_crossentropy',\n",
    "              metrics=['accuracy'])"
   ]
  },
  {
   "cell_type": "markdown",
   "metadata": {},
   "source": [
    "Now let us train the model and also perform the cross validation and hyperparameter tuning. Passing validation_split parameter to fit() method ensures that cross validation and hyperparameter tuning also happens during the training."
   ]
  },
  {
   "cell_type": "code",
   "execution_count": 21,
   "metadata": {},
   "outputs": [
    {
     "name": "stdout",
     "output_type": "stream",
     "text": [
      "Train on 54000 samples, validate on 6000 samples\n",
      "Epoch 1/30\n",
      "54000/54000 [==============================] - 129s 2ms/step - loss: 0.7992 - acc: 0.7043 - val_loss: 0.4813 - val_acc: 0.8228\n",
      "Epoch 2/30\n",
      "54000/54000 [==============================] - 131s 2ms/step - loss: 0.4626 - acc: 0.8324 - val_loss: 0.3970 - val_acc: 0.8592\n",
      "Epoch 3/30\n",
      "54000/54000 [==============================] - 129s 2ms/step - loss: 0.3924 - acc: 0.8589 - val_loss: 0.3335 - val_acc: 0.8835\n",
      "Epoch 4/30\n",
      "54000/54000 [==============================] - 130s 2ms/step - loss: 0.3544 - acc: 0.8708 - val_loss: 0.3113 - val_acc: 0.8873\n",
      "Epoch 5/30\n",
      "54000/54000 [==============================] - 129s 2ms/step - loss: 0.3266 - acc: 0.8805 - val_loss: 0.2856 - val_acc: 0.8972\n",
      "Epoch 6/30\n",
      "54000/54000 [==============================] - 129s 2ms/step - loss: 0.3051 - acc: 0.8887 - val_loss: 0.2859 - val_acc: 0.8960\n",
      "Epoch 7/30\n",
      "54000/54000 [==============================] - 129s 2ms/step - loss: 0.2867 - acc: 0.8957 - val_loss: 0.2565 - val_acc: 0.9095\n",
      "Epoch 8/30\n",
      "54000/54000 [==============================] - 129s 2ms/step - loss: 0.2758 - acc: 0.8996 - val_loss: 0.2514 - val_acc: 0.9132\n",
      "Epoch 9/30\n",
      "54000/54000 [==============================] - 127s 2ms/step - loss: 0.2614 - acc: 0.9046 - val_loss: 0.2427 - val_acc: 0.9120\n",
      "Epoch 10/30\n",
      "54000/54000 [==============================] - 127s 2ms/step - loss: 0.2527 - acc: 0.9079 - val_loss: 0.2310 - val_acc: 0.9180\n",
      "Epoch 11/30\n",
      "54000/54000 [==============================] - 127s 2ms/step - loss: 0.2443 - acc: 0.9106 - val_loss: 0.2332 - val_acc: 0.9190\n",
      "Epoch 12/30\n",
      "54000/54000 [==============================] - 126s 2ms/step - loss: 0.2395 - acc: 0.9120 - val_loss: 0.2268 - val_acc: 0.9200\n",
      "Epoch 13/30\n",
      "54000/54000 [==============================] - 127s 2ms/step - loss: 0.2309 - acc: 0.9146 - val_loss: 0.2219 - val_acc: 0.9192\n",
      "Epoch 14/30\n",
      "54000/54000 [==============================] - 126s 2ms/step - loss: 0.2224 - acc: 0.9180 - val_loss: 0.2174 - val_acc: 0.9222\n",
      "Epoch 15/30\n",
      "54000/54000 [==============================] - 131s 2ms/step - loss: 0.2175 - acc: 0.9201 - val_loss: 0.2118 - val_acc: 0.9253\n",
      "Epoch 16/30\n",
      "54000/54000 [==============================] - 128s 2ms/step - loss: 0.2126 - acc: 0.9206 - val_loss: 0.2063 - val_acc: 0.9268\n",
      "Epoch 17/30\n",
      "54000/54000 [==============================] - 127s 2ms/step - loss: 0.2066 - acc: 0.9232 - val_loss: 0.2149 - val_acc: 0.9230\n",
      "Epoch 18/30\n",
      "54000/54000 [==============================] - 128s 2ms/step - loss: 0.2012 - acc: 0.9267 - val_loss: 0.2058 - val_acc: 0.9255\n",
      "Epoch 19/30\n",
      "54000/54000 [==============================] - 126s 2ms/step - loss: 0.1952 - acc: 0.9271 - val_loss: 0.2060 - val_acc: 0.9278\n",
      "Epoch 20/30\n",
      "54000/54000 [==============================] - 126s 2ms/step - loss: 0.1915 - acc: 0.9283 - val_loss: 0.1943 - val_acc: 0.9338\n",
      "Epoch 21/30\n",
      "54000/54000 [==============================] - 124s 2ms/step - loss: 0.1884 - acc: 0.9292 - val_loss: 0.1936 - val_acc: 0.9297\n",
      "Epoch 22/30\n",
      "54000/54000 [==============================] - 126s 2ms/step - loss: 0.1823 - acc: 0.9317 - val_loss: 0.2033 - val_acc: 0.9270\n",
      "Epoch 23/30\n",
      "54000/54000 [==============================] - 124s 2ms/step - loss: 0.1774 - acc: 0.9344 - val_loss: 0.1922 - val_acc: 0.9318\n",
      "Epoch 24/30\n",
      "54000/54000 [==============================] - 124s 2ms/step - loss: 0.1717 - acc: 0.9358 - val_loss: 0.1855 - val_acc: 0.9360\n",
      "Epoch 25/30\n",
      "54000/54000 [==============================] - 124s 2ms/step - loss: 0.1696 - acc: 0.9366 - val_loss: 0.1871 - val_acc: 0.9312\n",
      "Epoch 26/30\n",
      "54000/54000 [==============================] - 124s 2ms/step - loss: 0.1680 - acc: 0.9368 - val_loss: 0.1905 - val_acc: 0.9313\n",
      "Epoch 27/30\n",
      "54000/54000 [==============================] - 124s 2ms/step - loss: 0.1653 - acc: 0.9382 - val_loss: 0.1854 - val_acc: 0.9303\n",
      "Epoch 28/30\n",
      "54000/54000 [==============================] - 124s 2ms/step - loss: 0.1630 - acc: 0.9389 - val_loss: 0.1832 - val_acc: 0.9330\n",
      "Epoch 29/30\n",
      "54000/54000 [==============================] - 124s 2ms/step - loss: 0.1558 - acc: 0.9412 - val_loss: 0.1849 - val_acc: 0.9317\n",
      "Epoch 30/30\n",
      "54000/54000 [==============================] - 124s 2ms/step - loss: 0.1538 - acc: 0.9422 - val_loss: 0.1849 - val_acc: 0.9335\n"
     ]
    },
    {
     "data": {
      "text/plain": [
       "<tensorflow.python.keras.callbacks.History at 0x7f9084597c18>"
      ]
     },
     "execution_count": 21,
     "metadata": {},
     "output_type": "execute_result"
    }
   ],
   "source": [
    "# Let us perform 30 epochs with batch_size as 512, and with shuffling = true \n",
    "\n",
    "# shuffle=true will shuffle the indexes of the instances in order to allocate different sets of instances \n",
    "# in validation dataset each time cross-validation runs\n",
    "\n",
    "# validation split=0.1 means a validation dataset of size of 10% is created from the training dataset for cross validation\n",
    "\n",
    "new_model.fit(train_images_norm, train_labels, epochs=30, batch_size=512, shuffle=True, validation_split=0.1)\n"
   ]
  },
  {
   "cell_type": "code",
   "execution_count": 22,
   "metadata": {},
   "outputs": [
    {
     "name": "stdout",
     "output_type": "stream",
     "text": [
      "10000/10000 [==============================] - 7s 690us/step\n"
     ]
    }
   ],
   "source": [
    "test_loss, test_accuracy = new_model.evaluate(test_images_norm, test_labels)"
   ]
  },
  {
   "cell_type": "code",
   "execution_count": 23,
   "metadata": {},
   "outputs": [
    {
     "name": "stdout",
     "output_type": "stream",
     "text": [
      "0.9305\n"
     ]
    }
   ],
   "source": [
    "print(test_accuracy)"
   ]
  },
  {
   "cell_type": "code",
   "execution_count": 24,
   "metadata": {},
   "outputs": [
    {
     "name": "stdout",
     "output_type": "stream",
     "text": [
      "0.1947550979077816\n"
     ]
    }
   ],
   "source": [
    "print(test_loss)"
   ]
  },
  {
   "cell_type": "markdown",
   "metadata": {},
   "source": [
    "Accucary Plot"
   ]
  },
  {
   "cell_type": "code",
   "execution_count": 25,
   "metadata": {},
   "outputs": [
    {
     "name": "stdout",
     "output_type": "stream",
     "text": [
      "dict_keys(['val_loss', 'val_acc', 'loss', 'acc'])\n"
     ]
    }
   ],
   "source": [
    "print(new_model.history.history.keys())"
   ]
  },
  {
   "cell_type": "code",
   "execution_count": 26,
   "metadata": {},
   "outputs": [
    {
     "data": {
      "image/png": "[encoded data removed]",
      "text/plain": [
       "<Figure size 432x288 with 1 Axes>"
      ]
     },
     "metadata": {},
     "output_type": "display_data"
    }
   ],
   "source": [
    "plt.plot(new_model.history.history['acc'])\n",
    "plt.plot(new_model.history.history['val_acc'])\n",
    "plt.title(\"Accuracy\")\n",
    "plt.ylabel(\"accuracy\")\n",
    "plt.xlabel(\"epoch\")\n",
    "plt.legend(['train', 'test'], loc='upper left')\n",
    "plt.show()"
   ]
  },
  {
   "cell_type": "markdown",
   "metadata": {},
   "source": [
    "Loss Plot"
   ]
  },
  {
   "cell_type": "code",
   "execution_count": 27,
   "metadata": {},
   "outputs": [
    {
     "data": {
      "image/png": "[encoded data removed]",
      "text/plain": [
       "<Figure size 432x288 with 1 Axes>"
      ]
     },
     "metadata": {},
     "output_type": "display_data"
    }
   ],
   "source": [
    "plt.plot(new_model.history.history['loss'])\n",
    "plt.plot(new_model.history.history['val_loss'])\n",
    "plt.title(\"Loss\")\n",
    "plt.ylabel(\"loss\")\n",
    "plt.xlabel(\"epoch\")\n",
    "plt.legend(['train', 'test'], loc='upper left')\n",
    "plt.show()"
   ]
  },
  {
   "cell_type": "markdown",
   "metadata": {},
   "source": [
    "From the 'Accuracy\" and \"Loss\" plots above, we see that there is no Overfitting observed now in the model."
   ]
  },
  {
   "cell_type": "markdown",
   "metadata": {},
   "source": [
    "Now, let us make the predictions on Test dataset (say instance/image no. 88) to check the results"
   ]
  },
  {
   "cell_type": "code",
   "execution_count": 28,
   "metadata": {},
   "outputs": [],
   "source": [
    "# Making predictions on Test dataset\n",
    "predicted_test_labels = new_model.predict(test_images_norm)"
   ]
  },
  {
   "cell_type": "code",
   "execution_count": 29,
   "metadata": {},
   "outputs": [
    {
     "data": {
      "text/plain": [
       "(10000, 10)"
      ]
     },
     "execution_count": 29,
     "metadata": {},
     "output_type": "execute_result"
    }
   ],
   "source": [
    "predicted_test_labels.shape"
   ]
  },
  {
   "cell_type": "code",
   "execution_count": 30,
   "metadata": {},
   "outputs": [
    {
     "data": {
      "text/plain": [
       "array([9.9878651e-01, 1.5129776e-09, 1.0235499e-04, 1.5311174e-05,\n",
       "       6.6746189e-08, 5.6005112e-10, 1.0947105e-03, 1.0985579e-12,\n",
       "       9.4132378e-07, 1.5505348e-10], dtype=float32)"
      ]
     },
     "execution_count": 30,
     "metadata": {},
     "output_type": "execute_result"
    }
   ],
   "source": [
    "predicted_test_labels[88]"
   ]
  },
  {
   "cell_type": "code",
   "execution_count": 31,
   "metadata": {},
   "outputs": [
    {
     "data": {
      "text/plain": [
       "0"
      ]
     },
     "execution_count": 31,
     "metadata": {},
     "output_type": "execute_result"
    }
   ],
   "source": [
    "predicted_test_labels_index = np.argmax(predicted_test_labels[88])\n",
    "predicted_test_labels_index"
   ]
  },
  {
   "cell_type": "code",
   "execution_count": 32,
   "metadata": {},
   "outputs": [
    {
     "data": {
      "text/plain": [
       "0"
      ]
     },
     "execution_count": 32,
     "metadata": {},
     "output_type": "execute_result"
    }
   ],
   "source": [
    "test_labels[88]"
   ]
  },
  {
   "cell_type": "code",
   "execution_count": 33,
   "metadata": {},
   "outputs": [
    {
     "data": {
      "text/plain": [
       "<matplotlib.image.AxesImage at 0x7f907fba6ac8>"
      ]
     },
     "execution_count": 33,
     "metadata": {},
     "output_type": "execute_result"
    },
    {
     "data": {
      "image/png": "[encoded data removed]",
      "text/plain": [
       "<Figure size 432x288 with 1 Axes>"
      ]
     },
     "metadata": {},
     "output_type": "display_data"
    }
   ],
   "source": [
    "plt.figure()\n",
    "plt.imshow(np.squeeze(test_images[88]))"
   ]
  },
  {
   "cell_type": "markdown",
   "metadata": {},
   "source": [
    "Thus, we see that our prediction of the image at index 88 is right (T-shirt)."
   ]
  },
  {
   "cell_type": "code",
   "execution_count": null,
   "metadata": {},
   "outputs": [],
   "source": []
  }
 ],
 "metadata": {
  "kernelspec": {
   "display_name": "Python 3",
   "language": "python",
   "name": "python3"
  },
  "language_info": {
   "codemirror_mode": {
    "name": "ipython",
    "version": 3
   },
   "file_extension": ".py",
   "mimetype": "text/x-python",
   "name": "python",
   "nbconvert_exporter": "python",
   "pygments_lexer": "ipython3",
   "version": "3.6.5"
  },
  "toc": {
   "base_numbering": 1,
   "nav_menu": {},
   "number_sections": true,
   "sideBar": true,
   "skip_h1_title": false,
   "title_cell": "Table of Contents",
   "title_sidebar": "Contents",
   "toc_cell": false,
   "toc_position": {},
   "toc_section_display": true,
   "toc_window_display": false
  }
 },
 "nbformat": 4,
 "nbformat_minor": 2
}
